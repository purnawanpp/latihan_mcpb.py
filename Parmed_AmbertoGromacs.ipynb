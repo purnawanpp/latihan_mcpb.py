{
 "cells": [
  {
   "cell_type": "code",
   "execution_count": 1,
   "id": "0dba831d",
   "metadata": {},
   "outputs": [
    {
     "name": "stdout",
     "output_type": "stream",
     "text": [
      " \u001b[0m\u001b[01;34mDesktop\u001b[0m/      \u001b[01;34mMusic\u001b[0m/                           \u001b[01;34mPrograms\u001b[0m/   \u001b[01;34mTemplates\u001b[0m/\r\n",
      " \u001b[01;34mDocuments\u001b[0m/    \u001b[01;34mobs\u001b[0m/                             \u001b[01;34mPublic\u001b[0m/     Untitled.ipynb\r\n",
      " \u001b[01;34mDownloads\u001b[0m/    \u001b[01;34mPictures\u001b[0m/                        \u001b[01;34mqwikmd\u001b[0m/     \u001b[01;34mVideos\u001b[0m/\r\n",
      " \u001b[01;34mminiconda3\u001b[0m/  \u001b[01;36m\"PlayOnLinux's virtual drives\"\u001b[0m@   \u001b[01;34msnap\u001b[0m/      \u001b[01;34m'VirtualBox VMs'\u001b[0m/\r\n"
     ]
    }
   ],
   "source": [
    "ls"
   ]
  },
  {
   "cell_type": "code",
   "execution_count": 2,
   "id": "b7f9fc8c",
   "metadata": {},
   "outputs": [
    {
     "name": "stdout",
     "output_type": "stream",
     "text": [
      "/home/elite/Documents/1OKL\n"
     ]
    }
   ],
   "source": [
    "cd Documents/1OKL/"
   ]
  },
  {
   "cell_type": "code",
   "execution_count": 3,
   "id": "b2373779",
   "metadata": {},
   "outputs": [
    {
     "name": "stdout",
     "output_type": "stream",
     "text": [
      "/home/elite/Documents/1OKL\n"
     ]
    }
   ],
   "source": [
    "cd Documents/1OKL/"
   ]
  },
  {
   "cell_type": "code",
   "execution_count": 4,
   "id": "637ce3d0",
   "metadata": {},
   "outputs": [],
   "source": [
    "import parmed as pmd\n",
    "#amber = pmd.load_file('prmtop', 'inpcrd')\n",
    "amber = pmd.load_file('1OKL_solv.prmtop', '1OKL_solv.inpcrd')\n",
    "#save a GROMACS topology and GRO file\n",
    "amber.save('gromacs.top')\n",
    "amber.save('gromacs.gro')"
   ]
  }
 ],
 "metadata": {
  "kernelspec": {
   "display_name": "Python 3 (ipykernel)",
   "language": "python",
   "name": "python3"
  },
  "language_info": {
   "codemirror_mode": {
    "name": "ipython",
    "version": 3
   },
   "file_extension": ".py",
   "mimetype": "text/x-python",
   "name": "python",
   "nbconvert_exporter": "python",
   "pygments_lexer": "ipython3",
   "version": "3.9.13"
  }
 },
 "nbformat": 4,
 "nbformat_minor": 5
}
